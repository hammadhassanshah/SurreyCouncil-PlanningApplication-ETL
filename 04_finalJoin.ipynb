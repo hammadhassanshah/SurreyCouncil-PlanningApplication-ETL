{
 "cells": [
  {
   "cell_type": "code",
   "execution_count": 44,
   "metadata": {},
   "outputs": [],
   "source": [
    "%run ./01_acquireList.ipynb\n"
   ]
  },
  {
   "cell_type": "code",
   "execution_count": 45,
   "metadata": {},
   "outputs": [
    {
     "name": "stdout",
     "output_type": "stream",
     "text": [
      "[info] Page 1: 10 rows (total 10)\n",
      "[done] Saved 10 rows to results_test.csv\n"
     ]
    }
   ],
   "source": [
    "# Minimal run in Parish mode:\n",
    "results = run(\n",
    "    parish=\"All\",               \n",
    "    start_date=\"09/01/2025\",            \n",
    "    end_date=\"09/02/2025\",              \n",
    "    keywords=[\"\"],  # optional\n",
    "    headless=False # set True for headless\n",
    ")\n",
    "\n",
    "df = pd.DataFrame(results)\n",
    "listDF = df.drop(columns=[\"status\", \"validated_date\", \"decision\", \"detail_link\"], errors=\"ignore\")\n",
    "listDF = listDF.rename(columns={\n",
    "    \"proposal\": \"address\",\n",
    "    \"address\": \"description\"\n",
    "\n",
    "})"
   ]
  },
  {
   "cell_type": "code",
   "execution_count": 46,
   "metadata": {},
   "outputs": [],
   "source": [
    "app_ids = listDF[\"application_number\"].astype(str).tolist()"
   ]
  },
  {
   "cell_type": "code",
   "execution_count": 47,
   "metadata": {},
   "outputs": [
    {
     "name": "stdout",
     "output_type": "stream",
     "text": [
      "   application_number  \\\n",
      "0            2025/839   \n",
      "1            2025/839   \n",
      "2            2025/839   \n",
      "3       2025/1013/TPO   \n",
      "4       2025/1013/TPO   \n",
      "5       2025/1013/TPO   \n",
      "6       2025/1014/TPO   \n",
      "7       2025/1014/TPO   \n",
      "8       2025/1014/TPO   \n",
      "9            2025/993   \n",
      "10           2025/993   \n",
      "11           2025/993   \n",
      "12       2025/978/TPO   \n",
      "13           2025/836   \n",
      "14           2025/836   \n",
      "15           2025/836   \n",
      "16           2025/836   \n",
      "17           2025/836   \n",
      "18           2025/692   \n",
      "19           2025/692   \n",
      "20           2025/692   \n",
      "21           2025/692   \n",
      "22           2025/692   \n",
      "23           2025/692   \n",
      "24           2025/692   \n",
      "25      2025/1008/TCA   \n",
      "26           2025/962   \n",
      "27           2025/962   \n",
      "28           2025/962   \n",
      "29           2025/962   \n",
      "30           2025/962   \n",
      "31          2025/1001   \n",
      "\n",
      "                                                                                                 file_name  \\\n",
      "0                            Application Details - 4809 MEADOWSIDE WODLINGHAM PROPOSED FLOOR AREAS REDUCED   \n",
      "1                                             Application Details - Householder Local Validation Checklist   \n",
      "2                                                        Application Details - ApplicationFormRedacted.pdf   \n",
      "3                                                          Photographs and photomontages - Photo from West   \n",
      "4                                                         Photographs and photomontages - Photo from South   \n",
      "5                                                        Application Details - ApplicationFormRedacted.pdf   \n",
      "6                                                     Photographs and photomontages - T1-T2-T3 in question   \n",
      "7                                                                       Photographs and photomontages - T2   \n",
      "8                                                        Application Details - ApplicationFormRedacted.pdf   \n",
      "9                                                        Application Details - Design and Access Statement   \n",
      "10                                                                         Application Details - checklist   \n",
      "11                                                       Application Details - ApplicationFormRedacted.pdf   \n",
      "12                                                       Application Details - ApplicationFormRedacted.pdf   \n",
      "13                                                  Elevation (Front) - Proposed - Leisure amenities 3.pdf   \n",
      "14                                                                                Section - Proposed - Doc   \n",
      "15                                                          Superseded Documents - Leisure amenities 4.JPG   \n",
      "16                                                         Application Details - Householder checklist.doc   \n",
      "17                                                       Application Details - ApplicationFormRedacted.pdf   \n",
      "18                                                     Superseded Documents - Block 02 Proposed Elevations   \n",
      "19                                                     Superseded Documents - Block 02 Proposed Elevations   \n",
      "20                                                     Superseded Documents - Block 02 Proposed Elevations   \n",
      "21                                                     Superseded Documents - Block 01 Proposed Elevations   \n",
      "22                                                     Superseded Documents - Block 01 Proposed Elevations   \n",
      "23                                                     Superseded Documents - Block 01 Proposed Elevations   \n",
      "24                                                       Application Details - ApplicationFormRedacted.pdf   \n",
      "25                                                       Application Details - ApplicationFormRedacted.pdf   \n",
      "26                          Application Details - Application form REVISED - PiP 9 dwellings - The Stables   \n",
      "27                                  Application Details - OR - PERMIT - Nyahlands PiP - 9 houses - June 25   \n",
      "28  Application Details - Perrysfield Farm, Gibbs Brook Lane, Broadham Green, - ALLOWED MAY 25 - grey belt   \n",
      "29                    Application Details - Comparative sustainability spreadsheet  The Stables Wards Farm   \n",
      "30                             Superseded Documents - Application form PiP - The Stables WARD FARM 12.8.25   \n",
      "31                                                                                     Application Details   \n",
      "\n",
      "                                                                             url  \n",
      "0   https://plandocs.tandridge.gov.uk/my-requests/document-viewer?DocNo=25373204  \n",
      "1   https://plandocs.tandridge.gov.uk/my-requests/document-viewer?DocNo=25373199  \n",
      "2   https://plandocs.tandridge.gov.uk/my-requests/document-viewer?DocNo=25353200  \n",
      "3   https://plandocs.tandridge.gov.uk/my-requests/document-viewer?DocNo=25372932  \n",
      "4   https://plandocs.tandridge.gov.uk/my-requests/document-viewer?DocNo=25372931  \n",
      "5   https://plandocs.tandridge.gov.uk/my-requests/document-viewer?DocNo=25372927  \n",
      "6   https://plandocs.tandridge.gov.uk/my-requests/document-viewer?DocNo=25372938  \n",
      "7   https://plandocs.tandridge.gov.uk/my-requests/document-viewer?DocNo=25372939  \n",
      "8   https://plandocs.tandridge.gov.uk/my-requests/document-viewer?DocNo=25372934  \n",
      "9   https://plandocs.tandridge.gov.uk/my-requests/document-viewer?DocNo=25372369  \n",
      "10  https://plandocs.tandridge.gov.uk/my-requests/document-viewer?DocNo=25372367  \n",
      "11  https://plandocs.tandridge.gov.uk/my-requests/document-viewer?DocNo=25369683  \n",
      "12  https://plandocs.tandridge.gov.uk/my-requests/document-viewer?DocNo=25368304  \n",
      "13  https://plandocs.tandridge.gov.uk/my-requests/document-viewer?DocNo=25352640  \n",
      "14  https://plandocs.tandridge.gov.uk/my-requests/document-viewer?DocNo=25352636  \n",
      "15  https://plandocs.tandridge.gov.uk/my-requests/document-viewer?DocNo=25352637  \n",
      "16  https://plandocs.tandridge.gov.uk/my-requests/document-viewer?DocNo=25352635  \n",
      "17  https://plandocs.tandridge.gov.uk/my-requests/document-viewer?DocNo=25352630  \n",
      "18  https://plandocs.tandridge.gov.uk/my-requests/document-viewer?DocNo=25337856  \n",
      "19  https://plandocs.tandridge.gov.uk/my-requests/document-viewer?DocNo=25337854  \n",
      "20  https://plandocs.tandridge.gov.uk/my-requests/document-viewer?DocNo=25337855  \n",
      "21  https://plandocs.tandridge.gov.uk/my-requests/document-viewer?DocNo=25337850  \n",
      "22  https://plandocs.tandridge.gov.uk/my-requests/document-viewer?DocNo=25337851  \n",
      "23  https://plandocs.tandridge.gov.uk/my-requests/document-viewer?DocNo=25337852  \n",
      "24  https://plandocs.tandridge.gov.uk/my-requests/document-viewer?DocNo=25337841  \n",
      "25  https://plandocs.tandridge.gov.uk/my-requests/document-viewer?DocNo=25372910  \n",
      "26  https://plandocs.tandridge.gov.uk/my-requests/document-viewer?DocNo=25372621  \n",
      "27  https://plandocs.tandridge.gov.uk/my-requests/document-viewer?DocNo=25367257  \n",
      "28  https://plandocs.tandridge.gov.uk/my-requests/document-viewer?DocNo=25367256  \n",
      "29  https://plandocs.tandridge.gov.uk/my-requests/document-viewer?DocNo=25367252  \n",
      "30  https://plandocs.tandridge.gov.uk/my-requests/document-viewer?DocNo=25367248  \n",
      "31  https://plandocs.tandridge.gov.uk/my-requests/document-viewer?DocNo=25371054  \n"
     ]
    }
   ],
   "source": [
    "%run ./02_acquireFileAndDocURL.ipynb\n"
   ]
  },
  {
   "cell_type": "code",
   "execution_count": 50,
   "metadata": {},
   "outputs": [],
   "source": [
    "df = files_df"
   ]
  },
  {
   "cell_type": "code",
   "execution_count": 51,
   "metadata": {},
   "outputs": [],
   "source": [
    "%run ./03_processDocumentContent.ipynb\n"
   ]
  },
  {
   "cell_type": "code",
   "execution_count": 42,
   "metadata": {},
   "outputs": [],
   "source": [
    "finalDF = pd.merge(listDF, contentDF, on=\"application_number\", how=\"left\")\n"
   ]
  },
  {
   "cell_type": "code",
   "execution_count": 43,
   "metadata": {},
   "outputs": [],
   "source": [
    "from datetime import datetime\n",
    "date_str = datetime.now().strftime(\"%d%B%Y\")\n",
    "filename = f\"final{date_str}.csv\"\n",
    "finalDF.to_csv(filename, index=False)"
   ]
  }
 ],
 "metadata": {
  "kernelspec": {
   "display_name": "Python 3",
   "language": "python",
   "name": "python3"
  },
  "language_info": {
   "codemirror_mode": {
    "name": "ipython",
    "version": 3
   },
   "file_extension": ".py",
   "mimetype": "text/x-python",
   "name": "python",
   "nbconvert_exporter": "python",
   "pygments_lexer": "ipython3",
   "version": "3.10.6"
  }
 },
 "nbformat": 4,
 "nbformat_minor": 2
}
